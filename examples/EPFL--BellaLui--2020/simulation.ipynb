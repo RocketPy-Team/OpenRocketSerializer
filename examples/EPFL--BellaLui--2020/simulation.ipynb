{
 "cells": [
  {
   "cell_type": "markdown",
   "id": "a3fc4625",
   "metadata": {},
   "source": [
    "# RocketPy Simulation\n",
    "This notebook was generated using Rocket-Serializer, a RocketPy tool to convert simulation files to RocketPy simulations\n",
    "The notebook was generated using the following parameters file: `examples/EPFL--BellaLui--2020/parameters.json`\n"
   ]
  },
  {
   "cell_type": "code",
   "execution_count": null,
   "id": "e4523278",
   "metadata": {},
   "outputs": [],
   "source": [
    "%pip install rocketpy<=2.0"
   ]
  },
  {
   "cell_type": "code",
   "execution_count": null,
   "id": "aaa54a4f",
   "metadata": {},
   "outputs": [],
   "source": [
    "from rocketpy import (\n",
    "    Environment,\n",
    "    SolidMotor,\n",
    "    Rocket,\n",
    "    Flight,\n",
    "    TrapezoidalFins,\n",
    "    EllipticalFins,\n",
    "    RailButtons,\n",
    "    NoseCone,\n",
    "    Tail,\n",
    ")\n",
    "import datetime"
   ]
  },
  {
   "cell_type": "markdown",
   "id": "4ea6e841",
   "metadata": {},
   "source": [
    "## Environment\n"
   ]
  },
  {
   "cell_type": "code",
   "execution_count": null,
   "id": "872c6900",
   "metadata": {},
   "outputs": [],
   "source": [
    "env = Environment()\n",
    "env.set_location(latitude=28.61, longitude=-80.6)\n",
    "env.set_elevation(0.0)"
   ]
  },
  {
   "cell_type": "markdown",
   "id": "fe7a574d",
   "metadata": {},
   "source": [
    "Optionally, you can set the date and atmospheric model\n"
   ]
  },
  {
   "cell_type": "code",
   "execution_count": null,
   "id": "0a2464ab",
   "metadata": {},
   "outputs": [],
   "source": [
    "tomorrow = datetime.date.today() + datetime.timedelta(days=1)\n",
    "env.set_date((tomorrow.year, tomorrow.month, tomorrow.day, 12))\n",
    "env.set_atmospheric_model(type=\"Forecast\", file=\"GFS\")"
   ]
  },
  {
   "cell_type": "code",
   "execution_count": null,
   "id": "66270f13",
   "metadata": {},
   "outputs": [],
   "source": [
    "env.all_info()"
   ]
  },
  {
   "cell_type": "markdown",
   "id": "b32cb965",
   "metadata": {},
   "source": [
    "## Motor\n",
    "Currently, only Solid Motors are supported by Rocket-Serializer\n",
    "If you want to use a Liquid or Hybrid motor, please use rocketpy directly.\n"
   ]
  },
  {
   "cell_type": "code",
   "execution_count": null,
   "id": "40f12bdb",
   "metadata": {},
   "outputs": [],
   "source": [
    "motor = SolidMotor(\n",
    "    thrust_source=\"thrust_source.csv\",\n",
    "    dry_mass=0,\n",
    "    center_of_dry_mass_position=0,\n",
    "    dry_inertia=[0, 0, 0],\n",
    "    grains_center_of_mass_position=0,\n",
    "    grain_number=1,\n",
    "    grain_density=1378.7438125434685,\n",
    "    grain_outer_radius=0.027,\n",
    "    grain_initial_inner_radius=0.0135,\n",
    "    grain_initial_height=0.579,\n",
    "    grain_separation=0,\n",
    "    nozzle_radius=0.02025,\n",
    "    nozzle_position=-0.2895,\n",
    "    throat_radius=0.0135,\n",
    "    reshape_thrust_curve=False,  # Not implemented in Rocket-Serializer\n",
    "    interpolation_method=\"linear\",\n",
    "    coordinate_system_orientation=\"nozzle_to_combustion_chamber\",\n",
    ")"
   ]
  },
  {
   "cell_type": "code",
   "execution_count": null,
   "id": "5ddccb7a",
   "metadata": {},
   "outputs": [],
   "source": [
    "motor.all_info()"
   ]
  },
  {
   "cell_type": "markdown",
   "id": "2c5dd997",
   "metadata": {},
   "source": [
    "## Rocket\n",
    "Currently, only single stage rockets are supported by Rocket-Serializer\n",
    "We will start by defining the aerodynamic surfaces, and then build the rocket.\n"
   ]
  },
  {
   "cell_type": "markdown",
   "id": "bf12dbd5",
   "metadata": {},
   "source": [
    "### Nosecones\n"
   ]
  },
  {
   "cell_type": "code",
   "execution_count": null,
   "id": "33737f2b",
   "metadata": {},
   "outputs": [],
   "source": [
    "nosecone = NoseCone(\n",
    "    length=0.242,\n",
    "    kind=\"ogive\",\n",
    "    base_radius=0.078,\n",
    "    rocket_radius=0.078,\n",
    "    name=\"0.242\",\n",
    ")"
   ]
  },
  {
   "cell_type": "markdown",
   "id": "7e34c003",
   "metadata": {},
   "source": [
    "### Fins\n",
    "As rocketpy allows for multiple fins sets, we will create a dictionary with all the fins sets and then add them to the rocket\n"
   ]
  },
  {
   "cell_type": "code",
   "execution_count": null,
   "id": "45c5d954",
   "metadata": {},
   "outputs": [],
   "source": [
    "trapezoidal_fins = {}"
   ]
  },
  {
   "cell_type": "code",
   "execution_count": null,
   "id": "32bc0a35",
   "metadata": {},
   "outputs": [],
   "source": [
    "trapezoidal_fins[0] = TrapezoidalFins(\n",
    "    n=3,\n",
    "    root_chord=0.28,\n",
    "    tip_chord=0.125,\n",
    "    span=0.2,\n",
    "    cant_angle=0.0,\n",
    "    sweep_length=0.09326153163099972,\n",
    "    sweep_angle=None,\n",
    "    rocket_radius=0.078,\n",
    "    name=\"Conjunto de aletas trapezoidais\",\n",
    ")"
   ]
  },
  {
   "cell_type": "markdown",
   "id": "2c72a736",
   "metadata": {},
   "source": [
    "### Transitions (Tails)\n",
    "As rocketpy allows for multiple tails, we will create a dictionary with all the tails and then add them to the rocket\n"
   ]
  },
  {
   "cell_type": "code",
   "execution_count": null,
   "id": "2d4dfc7a",
   "metadata": {},
   "outputs": [],
   "source": [
    "tails = {}"
   ]
  },
  {
   "cell_type": "code",
   "execution_count": null,
   "id": "118734c1",
   "metadata": {},
   "outputs": [],
   "source": [
    "tails[0] = Tail(\n",
    "    top_radius=0.078,\n",
    "    bottom_radius=0.0675,\n",
    "    length=0.05,\n",
    "    rocket_radius=0.078,\n",
    "    name=\"Cauda\",\n",
    ")"
   ]
  },
  {
   "cell_type": "code",
   "execution_count": null,
   "id": "40904de8",
   "metadata": {},
   "outputs": [],
   "source": [
    "rocket = Rocket(\n",
    "    radius=0.078,\n",
    "    mass=8.419,\n",
    "    inertia=[0.096246, 0.096246, 5.8581],\n",
    "    power_off_drag=\"drag_curve.csv\",\n",
    "    power_on_drag=\"drag_curve.csv\",\n",
    "    center_of_mass_without_motor=1.559,\n",
    "    coordinate_system_orientation=\"nose_to_tail\",\n",
    ")"
   ]
  },
  {
   "cell_type": "markdown",
   "id": "d540e3c7",
   "metadata": {},
   "source": [
    "### Adding surfaces to the rocket\n",
    "Now that we have all the surfaces, we can add them to the rocket\n"
   ]
  },
  {
   "cell_type": "code",
   "execution_count": null,
   "id": "9e0f928d",
   "metadata": {},
   "outputs": [],
   "source": [
    "rocket.add_surfaces(\n",
    "    surfaces=[nosecone, trapezoidal_fins[0], tails[0]], positions=[0.0, 2.3476, 2.6276]\n",
    ")"
   ]
  },
  {
   "cell_type": "code",
   "execution_count": null,
   "id": "a26623e7",
   "metadata": {},
   "outputs": [],
   "source": [
    "rocket.add_motor(motor, position=2.3379117844381234)"
   ]
  },
  {
   "cell_type": "code",
   "execution_count": null,
   "id": "df404e2c",
   "metadata": {},
   "outputs": [],
   "source": [
    "### Rocket Info\n",
    "rocket.all_info()"
   ]
  },
  {
   "cell_type": "markdown",
   "id": "e6784efc",
   "metadata": {},
   "source": [
    "## Flight\n",
    "We will now create the flight simulation. Let's go!\n"
   ]
  },
  {
   "cell_type": "code",
   "execution_count": null,
   "id": "9a126283",
   "metadata": {},
   "outputs": [],
   "source": [
    "flight = Flight(\n",
    "    rocket=rocket,\n",
    "    environment=env,\n",
    "    rail_length=1.0,\n",
    "    inclination=90.0,\n",
    "    heading=90.0,\n",
    "    terminate_on_apogee=False,\n",
    "    max_time=600,\n",
    ")"
   ]
  },
  {
   "cell_type": "code",
   "execution_count": null,
   "id": "35ab0abd",
   "metadata": {},
   "outputs": [],
   "source": [
    "flight.all_info()"
   ]
  }
 ],
 "metadata": {},
 "nbformat": 4,
 "nbformat_minor": 5
}
