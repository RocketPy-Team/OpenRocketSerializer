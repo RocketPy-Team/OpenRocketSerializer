{
 "cells": [
  {
   "cell_type": "markdown",
   "id": "77bcf90f",
   "metadata": {},
   "source": [
    "# RocketPy Simulation\n",
    "This notebook was generated using Rocket-Serializer, a RocketPy tool to convert simulation files to RocketPy simulations\n",
    "The notebook was generated using the following parameters file: `examples/ProjetoJupiter--Valetudo--2019/parameters.json`\n"
   ]
  },
  {
   "cell_type": "code",
   "execution_count": null,
   "id": "69fccecc",
   "metadata": {},
   "outputs": [],
   "source": [
    "%pip install rocketpy<=2.0"
   ]
  },
  {
   "cell_type": "code",
   "execution_count": null,
   "id": "c4257f96",
   "metadata": {},
   "outputs": [],
   "source": [
    "from rocketpy import (\n",
    "    Environment,\n",
    "    SolidMotor,\n",
    "    Rocket,\n",
    "    Flight,\n",
    "    TrapezoidalFins,\n",
    "    RailButtons,\n",
    "    NoseCone,\n",
    "    Tail,\n",
    ")\n",
    "import datetime"
   ]
  },
  {
   "cell_type": "markdown",
   "id": "bba3ba76",
   "metadata": {},
   "source": [
    "## Environment\n"
   ]
  },
  {
   "cell_type": "code",
   "execution_count": null,
   "id": "ddd7a564",
   "metadata": {},
   "outputs": [],
   "source": [
    "env = Environment()\n",
    "env.set_location(latitude=-23.36417778, longitude=-48.0)\n",
    "env.set_elevation(668.0)"
   ]
  },
  {
   "cell_type": "markdown",
   "id": "de710db1",
   "metadata": {},
   "source": [
    "Optionally, you can set the date and atmospheric model\n"
   ]
  },
  {
   "cell_type": "code",
   "execution_count": null,
   "id": "b8bc3e1f",
   "metadata": {},
   "outputs": [],
   "source": [
    "tomorrow = datetime.date.today() + datetime.timedelta(days=1)\n",
    "env.set_date((tomorrow.year, tomorrow.month, tomorrow.day, 12))\n",
    "env.set_atmospheric_model(type=\"Forecast\", file=\"GFS\")"
   ]
  },
  {
   "cell_type": "code",
   "execution_count": null,
   "id": "6739d306",
   "metadata": {},
   "outputs": [],
   "source": [
    "env.all_info()"
   ]
  },
  {
   "cell_type": "markdown",
   "id": "6a982294",
   "metadata": {},
   "source": [
    "## Motor\n",
    "Currently, only Solid Motors are supported by Rocket-Serializer\n",
    "If you want to use a Liquid or Hybrid motor, please use rocketpy directly.\n"
   ]
  },
  {
   "cell_type": "code",
   "execution_count": null,
   "id": "26ef7460",
   "metadata": {},
   "outputs": [],
   "source": [
    "motor = SolidMotor(\n",
    "    thrust_source=\"thrust_source.csv\",\n",
    "    dry_mass=0,\n",
    "    center_of_dry_mass_position=0,\n",
    "    dry_inertia=[0, 0, 0],\n",
    "    grains_center_of_mass_position=0,\n",
    "    grain_number=1,\n",
    "    grain_density=1728.4572172886988,\n",
    "    grain_outer_radius=0.0214,\n",
    "    grain_initial_inner_radius=0.0107,\n",
    "    grain_initial_height=0.756,\n",
    "    grain_separation=0,\n",
    "    nozzle_radius=0.01605,\n",
    "    nozzle_position=-0.378,\n",
    "    throat_radius=0.0107,\n",
    "    reshape_thrust_curve=False,  # Not implemented in Rocket-Serializer\n",
    "    interpolation_method=\"linear\",\n",
    "    coordinate_system_orientation=\"nozzle_to_combustion_chamber\",\n",
    ")"
   ]
  },
  {
   "cell_type": "code",
   "execution_count": null,
   "id": "6e9e1d7c",
   "metadata": {},
   "outputs": [],
   "source": [
    "motor.all_info()"
   ]
  },
  {
   "cell_type": "markdown",
   "id": "f80ff548",
   "metadata": {},
   "source": [
    "## Rocket\n",
    "Currently, only single stage rockets are supported by Rocket-Serializer\n",
    "We will start by defining the aerodynamic surfaces, and then build the rocket.\n"
   ]
  },
  {
   "cell_type": "markdown",
   "id": "648c3a94",
   "metadata": {},
   "source": [
    "### Nosecones\n"
   ]
  },
  {
   "cell_type": "code",
   "execution_count": null,
   "id": "af72cae7",
   "metadata": {},
   "outputs": [],
   "source": [
    "nosecone = NoseCone(\n",
    "    length=0.274169,\n",
    "    kind=\"Von Karman\",\n",
    "    base_radius=0.04045000000000001,\n",
    "    rocket_radius=0.04045000000000001,\n",
    "    name=\"0.274169\",\n",
    ")"
   ]
  },
  {
   "cell_type": "markdown",
   "id": "ea57acd4",
   "metadata": {},
   "source": [
    "### Fins\n",
    "As rocketpy allows for multiple fins sets, we will create a dictionary with all the fins sets and then add them to the rocket\n"
   ]
  },
  {
   "cell_type": "code",
   "execution_count": null,
   "id": "feb367a4",
   "metadata": {},
   "outputs": [],
   "source": [
    "trapezoidal_fins = {}"
   ]
  },
  {
   "cell_type": "code",
   "execution_count": null,
   "id": "640856b2",
   "metadata": {},
   "outputs": [],
   "source": [
    "trapezoidal_fins[0] = TrapezoidalFins(\n",
    "    n=3,\n",
    "    root_chord=0.058,\n",
    "    tip_chord=0.018000000000000002,\n",
    "    span=0.077,\n",
    "    cant_angle=0.0,\n",
    "    sweep_length=0.03933010329337934,\n",
    "    sweep_angle=None,\n",
    "    rocket_radius=0.04045000000000001,\n",
    "    name=\"Conjunto de aletas trapezoidais\",\n",
    ")"
   ]
  },
  {
   "cell_type": "markdown",
   "id": "50040a03",
   "metadata": {},
   "source": [
    "### Transitions (Tails)\n",
    "As rocketpy allows for multiple tails, we will create a dictionary with all the tails and then add them to the rocket\n"
   ]
  },
  {
   "cell_type": "code",
   "execution_count": null,
   "id": "b1f407d9",
   "metadata": {},
   "outputs": [],
   "source": [
    "tails = {}"
   ]
  },
  {
   "cell_type": "code",
   "execution_count": null,
   "id": "574895d8",
   "metadata": {},
   "outputs": [],
   "source": [
    "rocket = Rocket(\n",
    "    radius=0.04045000000000001,\n",
    "    mass=8.2564,\n",
    "    inertia=[0.01467, 0.01467, 5.5915],\n",
    "    power_off_drag=\"drag_curve.csv\",\n",
    "    power_on_drag=\"drag_curve.csv\",\n",
    "    center_of_mass_without_motor=1.4023,\n",
    "    coordinate_system_orientation=\"nose_to_tail\",\n",
    ")"
   ]
  },
  {
   "cell_type": "markdown",
   "id": "2cb491d4",
   "metadata": {},
   "source": [
    "### Adding surfaces to the rocket\n",
    "Now that we have all the surfaces, we can add them to the rocket\n"
   ]
  },
  {
   "cell_type": "code",
   "execution_count": null,
   "id": "3257f65c",
   "metadata": {},
   "outputs": [],
   "source": [
    "rocket.add_surfaces(surfaces=[nosecone, trapezoidal_fins[0]], positions=[0.0, 2.321969])"
   ]
  },
  {
   "cell_type": "code",
   "execution_count": null,
   "id": "8986c171",
   "metadata": {},
   "outputs": [],
   "source": [
    "rocket.add_motor(motor, position=2.052896709219859)"
   ]
  },
  {
   "cell_type": "code",
   "execution_count": null,
   "id": "c560ae0b",
   "metadata": {},
   "outputs": [],
   "source": [
    "### Rocket Info\n",
    "rocket.all_info()"
   ]
  },
  {
   "cell_type": "markdown",
   "id": "18c4df11",
   "metadata": {},
   "source": [
    "## Flight\n",
    "We will now create the flight simulation. Let's go!\n"
   ]
  },
  {
   "cell_type": "code",
   "execution_count": null,
   "id": "e4fedc33",
   "metadata": {},
   "outputs": [],
   "source": [
    "flight = Flight(\n",
    "    rocket=rocket,\n",
    "    environment=env,\n",
    "    rail_length=5.7,\n",
    "    inclination=84.7,\n",
    "    heading=90.0,\n",
    "    terminate_on_apogee=False,\n",
    "    max_time=600,\n",
    ")"
   ]
  },
  {
   "cell_type": "code",
   "execution_count": null,
   "id": "19eb3bfa",
   "metadata": {},
   "outputs": [],
   "source": [
    "flight.all_info()"
   ]
  }
 ],
 "metadata": {},
 "nbformat": 4,
 "nbformat_minor": 5
}
