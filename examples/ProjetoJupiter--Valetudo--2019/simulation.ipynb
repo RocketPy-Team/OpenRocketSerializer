{
 "cells": [
  {
   "cell_type": "markdown",
   "id": "b8c2d17d",
   "metadata": {},
   "source": [
    "# RocketPy Simulation\n",
    "This notebook was generated using Rocket-Serializer, a RocketPy tool to convert simulation files to RocketPy simulations\n",
    "The notebook was generated using the following parameters file: `examples\\ProjetoJupiter--Valetudo--2019\\parameters.json`\n"
   ]
  },
  {
   "cell_type": "code",
   "execution_count": null,
   "id": "7f46d607",
   "metadata": {},
   "outputs": [],
   "source": [
    "%pip install rocketpy<=2.0"
   ]
  },
  {
   "cell_type": "code",
   "execution_count": null,
   "id": "ff05e825",
   "metadata": {},
   "outputs": [],
   "source": [
    "from rocketpy import (\n",
    "    Environment,\n",
    "    SolidMotor,\n",
    "    Rocket,\n",
    "    Flight,\n",
    "    TrapezoidalFins,\n",
    "    EllipticalFins,\n",
    "    RailButtons,\n",
    "    NoseCone,\n",
    "    Tail,\n",
    "    Parachute,\n",
    ")\n",
    "import datetime"
   ]
  },
  {
   "cell_type": "markdown",
   "id": "d66f7155",
   "metadata": {},
   "source": [
    "## Environment\n"
   ]
  },
  {
   "cell_type": "code",
   "execution_count": null,
   "id": "fcfa6301",
   "metadata": {},
   "outputs": [],
   "source": [
    "env = Environment()\n",
    "env.set_location(latitude=-23.36417778, longitude=-48.0)\n",
    "env.set_elevation(668.0)"
   ]
  },
  {
   "cell_type": "markdown",
   "id": "18a81ab1",
   "metadata": {},
   "source": [
    "Optionally, you can set the date and atmospheric model\n"
   ]
  },
  {
   "cell_type": "code",
   "execution_count": null,
   "id": "2fca28f1",
   "metadata": {},
   "outputs": [],
   "source": [
    "tomorrow = datetime.date.today() + datetime.timedelta(days=1)\n",
    "env.set_date((tomorrow.year, tomorrow.month, tomorrow.day, 12))\n",
    "# env.set_atmospheric_model(type='Forecast', file='GFS')"
   ]
  },
  {
   "cell_type": "code",
   "execution_count": null,
   "id": "aee1e3d7",
   "metadata": {},
   "outputs": [],
   "source": [
    "env.all_info()"
   ]
  },
  {
   "cell_type": "markdown",
   "id": "07e4852c",
   "metadata": {},
   "source": [
    "## Motor\n",
    "Currently, only Solid Motors are supported by Rocket-Serializer. If you want to use a Liquid/Hybrid motor, please use rocketpy directly.\n"
   ]
  },
  {
   "cell_type": "code",
   "execution_count": null,
   "id": "fd1c55ce",
   "metadata": {},
   "outputs": [],
   "source": [
    "motor = SolidMotor(\n",
    "    thrust_source=\"thrust_source.csv\",\n",
    "    dry_mass=0,\n",
    "    center_of_dry_mass_position=0,\n",
    "    dry_inertia=[0, 0, 0],\n",
    "    grains_center_of_mass_position=0,\n",
    "    grain_number=1,\n",
    "    grain_density=1728.4572172886988,\n",
    "    grain_outer_radius=0.0214,\n",
    "    grain_initial_inner_radius=0.0107,\n",
    "    grain_initial_height=0.756,\n",
    "    grain_separation=0,\n",
    "    nozzle_radius=0.01605,\n",
    "    nozzle_position=-0.378,\n",
    "    throat_radius=0.0107,\n",
    "    reshape_thrust_curve=False,  # Not implemented in Rocket-Serializer\n",
    "    interpolation_method=\"linear\",\n",
    "    coordinate_system_orientation=\"nozzle_to_combustion_chamber\",\n",
    ")"
   ]
  },
  {
   "cell_type": "code",
   "execution_count": null,
   "id": "1e077a6b",
   "metadata": {},
   "outputs": [],
   "source": [
    "motor.all_info()"
   ]
  },
  {
   "cell_type": "markdown",
   "id": "820e3425",
   "metadata": {},
   "source": [
    "## Rocket\n",
    "Currently, only single stage rockets are supported by Rocket-Serializer\n",
    "We will start by defining the aerodynamic surfaces, and then build the rocket.\n"
   ]
  },
  {
   "cell_type": "markdown",
   "id": "ab9a9375",
   "metadata": {},
   "source": [
    "### Nosecones\n"
   ]
  },
  {
   "cell_type": "code",
   "execution_count": null,
   "id": "27ed591d",
   "metadata": {},
   "outputs": [],
   "source": [
    "nosecone = NoseCone(\n",
    "    length=0.274169,\n",
    "    kind=\"Von Karman\",\n",
    "    base_radius=0.04045000000000001,\n",
    "    rocket_radius=0.04045000000000001,\n",
    "    name=\"0.274169\",\n",
    ")"
   ]
  },
  {
   "cell_type": "markdown",
   "id": "11a457fa",
   "metadata": {},
   "source": [
    "### Fins\n",
    "As rocketpy allows for multiple fins sets, we will create a dictionary with all the fins sets and then add them to the rocket\n"
   ]
  },
  {
   "cell_type": "code",
   "execution_count": null,
   "id": "1c5c9426",
   "metadata": {},
   "outputs": [],
   "source": [
    "trapezoidal_fins = {}"
   ]
  },
  {
   "cell_type": "code",
   "execution_count": null,
   "id": "281a7ba1",
   "metadata": {},
   "outputs": [],
   "source": [
    "trapezoidal_fins[0] = TrapezoidalFins(\n",
    "    n=3,\n",
    "    root_chord=0.058,\n",
    "    tip_chord=0.018000000000000002,\n",
    "    span=0.077,\n",
    "    cant_angle=0.0,\n",
    "    sweep_length=0.03933010329337934,\n",
    "    sweep_angle=None,\n",
    "    rocket_radius=0.04045000000000001,\n",
    "    name=\"Conjunto de aletas trapezoidais\",\n",
    ")"
   ]
  },
  {
   "cell_type": "markdown",
   "id": "a4c01f98",
   "metadata": {},
   "source": [
    "### Transitions (Tails)\n",
    "As rocketpy allows for multiple tails, we will create a dictionary with all the tails and then add them to the rocket\n"
   ]
  },
  {
   "cell_type": "code",
   "execution_count": null,
   "id": "86d92ca3",
   "metadata": {},
   "outputs": [],
   "source": [
    "tails = {}"
   ]
  },
  {
   "cell_type": "markdown",
   "id": "f780a4d7",
   "metadata": {},
   "source": [
    "### Parachutes\n",
    "As rocketpy allows for multiple parachutes, we will create a dictionary with all the parachutes and then add them to the rocket\n"
   ]
  },
  {
   "cell_type": "code",
   "execution_count": null,
   "id": "3826d54c",
   "metadata": {},
   "outputs": [],
   "source": [
    "parachutes = {}"
   ]
  },
  {
   "cell_type": "code",
   "execution_count": null,
   "id": "5cd82d1a",
   "metadata": {},
   "outputs": [],
   "source": [
    "parachutes[0] = Parachute(\n",
    "    name=\"Drogue_chute\",\n",
    "    cd_s=0.454,\n",
    "    trigger=\"apogee\",\n",
    "    sampling_rate=100,\n",
    ")"
   ]
  },
  {
   "cell_type": "code",
   "execution_count": null,
   "id": "f87e5187",
   "metadata": {},
   "outputs": [],
   "source": [
    "rocket = Rocket(\n",
    "    radius=0.04045000000000001,\n",
    "    mass=8.2564,\n",
    "    inertia=[0.01467, 0.01467, 5.5915],\n",
    "    power_off_drag=\"drag_curve.csv\",\n",
    "    power_on_drag=\"drag_curve.csv\",\n",
    "    center_of_mass_without_motor=1.4023,\n",
    "    coordinate_system_orientation=\"nose_to_tail\",\n",
    ")"
   ]
  },
  {
   "cell_type": "markdown",
   "id": "0bd5aeae",
   "metadata": {},
   "source": [
    "### Adding surfaces to the rocket\n",
    "Now that we have all the surfaces, we can add them to the rocket\n"
   ]
  },
  {
   "cell_type": "code",
   "execution_count": null,
   "id": "ba8689bf",
   "metadata": {},
   "outputs": [],
   "source": [
    "rocket.add_surfaces(surfaces=[nosecone, trapezoidal_fins[0]], positions=[0.0, 2.321969])"
   ]
  },
  {
   "cell_type": "code",
   "execution_count": null,
   "id": "6f5ebd53",
   "metadata": {},
   "outputs": [],
   "source": [
    "rocket.add_motor(motor, position=2.052896709219859)"
   ]
  },
  {
   "cell_type": "markdown",
   "id": "75d26793",
   "metadata": {},
   "source": [
    "Adding parachutes to the rocket\n"
   ]
  },
  {
   "cell_type": "code",
   "execution_count": null,
   "id": "7d351eed",
   "metadata": {},
   "outputs": [],
   "source": [
    "rocket.parachutes = list(parachutes.values())"
   ]
  },
  {
   "cell_type": "code",
   "execution_count": null,
   "id": "c6c7deda",
   "metadata": {},
   "outputs": [],
   "source": [
    "### Rocket Info\n",
    "rocket.all_info()"
   ]
  },
  {
   "cell_type": "markdown",
   "id": "f327a833",
   "metadata": {},
   "source": [
    "## Flight\n",
    "We will now create the flight simulation. Let's go!\n"
   ]
  },
  {
   "cell_type": "code",
   "execution_count": null,
   "id": "6fda131f",
   "metadata": {},
   "outputs": [],
   "source": [
    "flight = Flight(\n",
    "    rocket=rocket,\n",
    "    environment=env,\n",
    "    rail_length=5.7,\n",
    "    inclination=84.7,\n",
    "    heading=90.0,\n",
    "    terminate_on_apogee=False,\n",
    "    max_time=600,\n",
    ")"
   ]
  },
  {
   "cell_type": "code",
   "execution_count": null,
   "id": "ced209ae",
   "metadata": {},
   "outputs": [],
   "source": [
    "flight.all_info()"
   ]
  },
  {
   "cell_type": "markdown",
   "id": "5a770825",
   "metadata": {},
   "source": [
    "## Compare Results\n",
    "We will now compare the results of the simulation with the parameters used to create it. Let's go!\n"
   ]
  },
  {
   "cell_type": "code",
   "execution_count": null,
   "id": "6dc00bff",
   "metadata": {},
   "outputs": [],
   "source": [
    "### OpenRocket vs RocketPy Parameters\n",
    "time_to_apogee_ork = 14.65\n",
    "time_to_apogee_rpy = flight.apogee_time\n",
    "print(f\"Time to apogee (OpenRocket): {time_to_apogee_ork:.3f} s\")\n",
    "print(f\"Time to apogee (RocketPy):   {time_to_apogee_rpy:.3f} s\")\n",
    "apogee_difference = time_to_apogee_rpy - time_to_apogee_ork\n",
    "error = abs((apogee_difference) / time_to_apogee_rpy) * 100\n",
    "print(f\"Time to apogee difference:   {error:.3f} %\")\n",
    "\n",
    "flight_time_ork = 64.161\n",
    "flight_time_rpy = flight.t_final\n",
    "print(f\"Flight time (OpenRocket): {flight_time_ork:.3f} s\")\n",
    "print(f\"Flight time (RocketPy):   {flight_time_rpy:.3f} s\")\n",
    "flight_time_difference = flight_time_rpy - flight_time_ork\n",
    "error_flight_time = abs((flight_time_difference) / flight_time_rpy) * 100\n",
    "print(f\"Flight time difference:   {error_flight_time:.3f} %\")\n",
    "\n",
    "ground_hit_velocity_ork = 18.146\n",
    "ground_hit_velocity_rpy = flight.impact_velocity\n",
    "print(f\"Ground hit velocity (OpenRocket): {ground_hit_velocity_ork:.3f} m/s\")\n",
    "print(f\"Ground hit velocity (RocketPy):   {ground_hit_velocity_rpy:.3f} m/s\")\n",
    "ground_hit_velocity_difference = ground_hit_velocity_rpy - ground_hit_velocity_ork\n",
    "error_ground_hit_velocity = (\n",
    "    abs((ground_hit_velocity_difference) / ground_hit_velocity_rpy) * 100\n",
    ")\n",
    "print(f\"Ground hit velocity difference:   {error_ground_hit_velocity:.3f} %\")\n",
    "\n",
    "launch_rod_velocity_ork = 26.397\n",
    "launch_rod_velocity_rpy = flight.out_of_rail_velocity\n",
    "print(f\"Launch rod velocity (OpenRocket): {launch_rod_velocity_ork:.3f} m/s\")\n",
    "print(f\"Launch rod velocity (RocketPy):   {launch_rod_velocity_rpy:.3f} m/s\")\n",
    "launch_rod_velocity_difference = launch_rod_velocity_rpy - launch_rod_velocity_ork\n",
    "error_launch_rod_velocity = (\n",
    "    abs((launch_rod_velocity_difference) / launch_rod_velocity_rpy) * 100\n",
    ")\n",
    "print(f\"Launch rod velocity difference:   {error_launch_rod_velocity:.3f} %\")\n",
    "\n",
    "max_acceleration_ork = 108.52\n",
    "max_acceleration_rpy = flight.max_acceleration\n",
    "print(f\"Max acceleration (OpenRocket): {max_acceleration_ork:.3f} m/s²\")\n",
    "print(f\"Max acceleration (RocketPy):   {max_acceleration_rpy:.3f} m/s²\")\n",
    "max_acceleration_difference = max_acceleration_rpy - max_acceleration_ork\n",
    "error_max_acceleration = abs((max_acceleration_difference) / max_acceleration_rpy) * 100\n",
    "print(f\"Max acceleration difference:   {error_max_acceleration:.3f} %\")\n",
    "\n",
    "max_altitude_ork = 882.42\n",
    "max_altitude_rpy = flight.apogee - flight.env.elevation\n",
    "print(f\"Max altitude (OpenRocket): {max_altitude_ork:.3f} m\")\n",
    "print(f\"Max altitude (RocketPy):   {max_altitude_rpy:.3f} m\")\n",
    "max_altitude_difference = max_altitude_rpy - max_altitude_ork\n",
    "error_max_altitude = abs((max_altitude_difference) / max_altitude_rpy) * 100\n",
    "print(f\"Max altitude difference:   {error_max_altitude:.3f} %\")\n",
    "\n",
    "max_mach_ork = 0.36177\n",
    "max_mach_rpy = flight.max_mach_number\n",
    "print(f\"Max Mach (OpenRocket): {max_mach_ork:.3f}\")\n",
    "print(f\"Max Mach (RocketPy):   {max_mach_rpy:.3f}\")\n",
    "max_mach_difference = max_mach_rpy - max_mach_ork\n",
    "error_max_mach = abs((max_mach_difference) / max_mach_rpy) * 100\n",
    "print(f\"Max Mach difference:   {error_max_mach:.3f} %\")\n",
    "\n",
    "max_velocity_ork = 125.47\n",
    "max_velocity_rpy = flight.max_speed\n",
    "print(f\"Max velocity (OpenRocket): {max_velocity_ork:.3f} m/s\")\n",
    "print(f\"Max velocity (RocketPy):   {max_velocity_rpy:.3f} m/s\")\n",
    "max_velocity_difference = max_velocity_rpy - max_velocity_ork\n",
    "error_max_velocity = abs((max_velocity_difference) / max_velocity_rpy) * 100\n",
    "print(f\"Max velocity difference:   {error_max_velocity:.3f} %\")\n",
    "\n",
    "max_thrust_ork = 1067.7\n",
    "max_thrust_rpy = flight.rocket.motor.thrust.max\n",
    "print(f\"Max thrust (OpenRocket): {max_thrust_ork:.3f} N\")\n",
    "print(f\"Max thrust (RocketPy):   {max_thrust_rpy:.3f} N\")\n",
    "max_thrust_difference = max_thrust_rpy - max_thrust_ork\n",
    "error_max_thrust = abs((max_thrust_difference) / max_thrust_rpy) * 100\n",
    "print(f\"Max thrust difference:   {error_max_thrust:.3f} %\")\n",
    "\n",
    "burnout_stability_margin_ork = 2.4363\n",
    "burnout_stability_margin_rpy = flight.stability_margin(\n",
    "    flight.rocket.motor.burn_out_time\n",
    ")\n",
    "print(f\"Burnout stability margin (OpenRocket): {burnout_stability_margin_ork:.3f}\")\n",
    "print(f\"Burnout stability margin (RocketPy):   {burnout_stability_margin_rpy:.3f}\")\n",
    "burnout_stability_margin_difference = (\n",
    "    burnout_stability_margin_rpy - burnout_stability_margin_ork\n",
    ")\n",
    "error_burnout_stability_margin = (\n",
    "    abs((burnout_stability_margin_difference) / burnout_stability_margin_rpy) * 100\n",
    ")\n",
    "print(f\"Burnout stability margin difference:   {error_burnout_stability_margin:.3f} %\")\n",
    "\n",
    "max_stability_margin_ork = 3.2714\n",
    "max_stability_margin_rpy = flight.max_stability_margin\n",
    "print(f\"Max stability margin (OpenRocket): {max_stability_margin_ork:.3f}\")\n",
    "print(f\"Max stability margin (RocketPy):   {max_stability_margin_rpy:.3f}\")\n",
    "max_stability_margin_difference = max_stability_margin_rpy - max_stability_margin_ork\n",
    "error_max_stability_margin = (\n",
    "    abs((max_stability_margin_difference) / max_stability_margin_rpy) * 100\n",
    ")\n",
    "print(f\"Max stability margin difference:   {error_max_stability_margin:.3f} %\")\n",
    "\n",
    "min_stability_margin_ork = 0.0\n",
    "min_stability_margin_rpy = flight.min_stability_margin\n",
    "print(f\"Min stability margin (OpenRocket): {min_stability_margin_ork:.3f}\")\n",
    "print(f\"Min stability margin (RocketPy):   {min_stability_margin_rpy:.3f}\")\n",
    "min_stability_margin_difference = min_stability_margin_rpy - min_stability_margin_ork\n",
    "error_min_stability_margin = (\n",
    "    abs((min_stability_margin_difference) / min_stability_margin_rpy) * 100\n",
    ")\n",
    "print(f\"Min stability margin difference:   {error_min_stability_margin:.3f} %\")"
   ]
  }
 ],
 "metadata": {},
 "nbformat": 4,
 "nbformat_minor": 5
}
