{
 "cells": [
  {
   "cell_type": "markdown",
   "id": "4dd186f6",
   "metadata": {},
   "source": [
    "# RocketPy Simulation\n",
    "This notebook was generated using Rocket-Serializer, a RocketPy tool to convert simulation files to RocketPy simulations\n",
    "The notebook was generated using the following parameters file: `examples/WERT--Prometheus--2022/parameters.json`\n"
   ]
  },
  {
   "cell_type": "code",
   "execution_count": null,
   "id": "6d40ac9b",
   "metadata": {},
   "outputs": [],
   "source": [
    "%pip install rocketpy<=2.0"
   ]
  },
  {
   "cell_type": "code",
   "execution_count": null,
   "id": "220e1119",
   "metadata": {},
   "outputs": [],
   "source": [
    "from rocketpy import (\n",
    "    Environment,\n",
    "    SolidMotor,\n",
    "    Rocket,\n",
    "    Flight,\n",
    "    TrapezoidalFins,\n",
    "    RailButtons,\n",
    "    NoseCone,\n",
    "    Tail,\n",
    ")\n",
    "import datetime"
   ]
  },
  {
   "cell_type": "markdown",
   "id": "10468769",
   "metadata": {},
   "source": [
    "## Environment\n"
   ]
  },
  {
   "cell_type": "code",
   "execution_count": null,
   "id": "c176548b",
   "metadata": {},
   "outputs": [],
   "source": [
    "env = Environment()\n",
    "env.set_location(latitude=33.0, longitude=-107.27)\n",
    "env.set_elevation(1401.0)"
   ]
  },
  {
   "cell_type": "markdown",
   "id": "d58c647e",
   "metadata": {},
   "source": [
    "Optionally, you can set the date and atmospheric model\n"
   ]
  },
  {
   "cell_type": "code",
   "execution_count": null,
   "id": "a34102ad",
   "metadata": {},
   "outputs": [],
   "source": [
    "tomorrow = datetime.date.today() + datetime.timedelta(days=1)\n",
    "env.set_date((tomorrow.year, tomorrow.month, tomorrow.day, 12))\n",
    "env.set_atmospheric_model(type=\"Forecast\", file=\"GFS\")"
   ]
  },
  {
   "cell_type": "code",
   "execution_count": null,
   "id": "261e7ab2",
   "metadata": {},
   "outputs": [],
   "source": [
    "env.all_info()"
   ]
  },
  {
   "cell_type": "markdown",
   "id": "a04356d9",
   "metadata": {},
   "source": [
    "## Motor\n",
    "Currently, only Solid Motors are supported by Rocket-Serializer\n",
    "If you want to use a Liquid or Hybrid motor, please use rocketpy directly.\n"
   ]
  },
  {
   "cell_type": "code",
   "execution_count": null,
   "id": "3fe74642",
   "metadata": {},
   "outputs": [],
   "source": [
    "motor = SolidMotor(\n",
    "    thrust_source=\"thrust_source.csv\",\n",
    "    dry_mass=0,\n",
    "    center_of_dry_mass_position=0,\n",
    "    dry_inertia=[0, 0, 0],\n",
    "    grains_center_of_mass_position=0,\n",
    "    grain_number=1,\n",
    "    grain_density=1204.132103436312,\n",
    "    grain_outer_radius=0.049,\n",
    "    grain_initial_inner_radius=0.0245,\n",
    "    grain_initial_height=0.548,\n",
    "    grain_separation=0,\n",
    "    nozzle_radius=0.036750000000000005,\n",
    "    nozzle_position=-0.274,\n",
    "    throat_radius=0.0245,\n",
    "    reshape_thrust_curve=False,  # Not implemented in Rocket-Serializer\n",
    "    interpolation_method=\"linear\",\n",
    "    coordinate_system_orientation=\"nozzle_to_combustion_chamber\",\n",
    ")"
   ]
  },
  {
   "cell_type": "code",
   "execution_count": null,
   "id": "b0edb3fe",
   "metadata": {},
   "outputs": [],
   "source": [
    "motor.all_info()"
   ]
  },
  {
   "cell_type": "markdown",
   "id": "5783748a",
   "metadata": {},
   "source": [
    "## Rocket\n",
    "Currently, only single stage rockets are supported by Rocket-Serializer\n",
    "We will start by defining the aerodynamic surfaces, and then build the rocket.\n"
   ]
  },
  {
   "cell_type": "markdown",
   "id": "537d6606",
   "metadata": {},
   "source": [
    "### Nosecones\n"
   ]
  },
  {
   "cell_type": "code",
   "execution_count": null,
   "id": "84ea4580",
   "metadata": {},
   "outputs": [],
   "source": [
    "nosecone = NoseCone(\n",
    "    length=0.742,\n",
    "    kind=\"Von Karman\",\n",
    "    base_radius=0.06985,\n",
    "    rocket_radius=0.06985,\n",
    "    name=\"0.742\",\n",
    ")"
   ]
  },
  {
   "cell_type": "markdown",
   "id": "44db77a1",
   "metadata": {},
   "source": [
    "### Fins\n",
    "As rocketpy allows for multiple fins sets, we will create a dictionary with all the fins sets and then add them to the rocket\n"
   ]
  },
  {
   "cell_type": "code",
   "execution_count": null,
   "id": "0922fa11",
   "metadata": {},
   "outputs": [],
   "source": [
    "trapezoidal_fins = {}"
   ]
  },
  {
   "cell_type": "markdown",
   "id": "9b4c0d34",
   "metadata": {},
   "source": [
    "### Transitions (Tails)\n",
    "As rocketpy allows for multiple tails, we will create a dictionary with all the tails and then add them to the rocket\n"
   ]
  },
  {
   "cell_type": "code",
   "execution_count": null,
   "id": "5e0b8d68",
   "metadata": {},
   "outputs": [],
   "source": [
    "tails = {}"
   ]
  },
  {
   "cell_type": "code",
   "execution_count": null,
   "id": "10e189a4",
   "metadata": {},
   "outputs": [],
   "source": [
    "rocket = Rocket(\n",
    "    radius=0.06985,\n",
    "    mass=14.737,\n",
    "    inertia=[0.043, 0.043, 4.563],\n",
    "    power_off_drag=\"drag_curve.csv\",\n",
    "    power_on_drag=\"drag_curve.csv\",\n",
    "    center_of_mass_without_motor=1.266,\n",
    "    coordinate_system_orientation=\"nose_to_tail\",\n",
    ")"
   ]
  },
  {
   "cell_type": "markdown",
   "id": "e840c1ec",
   "metadata": {},
   "source": [
    "### Adding surfaces to the rocket\n",
    "Now that we have all the surfaces, we can add them to the rocket\n"
   ]
  },
  {
   "cell_type": "code",
   "execution_count": null,
   "id": "5c40559b",
   "metadata": {},
   "outputs": [],
   "source": [
    "rocket.add_surfaces(surfaces=[nosecone], positions=[0.0])"
   ]
  },
  {
   "cell_type": "code",
   "execution_count": null,
   "id": "68a5a141",
   "metadata": {},
   "outputs": [],
   "source": [
    "rocket.add_motor(motor, position=1.968582373426199)"
   ]
  },
  {
   "cell_type": "code",
   "execution_count": null,
   "id": "9c9ea5c7",
   "metadata": {},
   "outputs": [],
   "source": [
    "### Rocket Info\n",
    "rocket.all_info()"
   ]
  },
  {
   "cell_type": "markdown",
   "id": "bc3df711",
   "metadata": {},
   "source": [
    "## Flight\n",
    "We will now create the flight simulation. Let's go!\n"
   ]
  },
  {
   "cell_type": "code",
   "execution_count": 15,
   "id": "9e0d2700",
   "metadata": {},
   "outputs": [
    {
     "ename": "KeyboardInterrupt",
     "evalue": "",
     "output_type": "error",
     "traceback": [
      "\u001b[1;31m---------------------------------------------------------------------------\u001b[0m",
      "\u001b[1;31mKeyboardInterrupt\u001b[0m                         Traceback (most recent call last)",
      "Cell \u001b[1;32mIn[15], line 1\u001b[0m\n\u001b[1;32m----> 1\u001b[0m flight \u001b[38;5;241m=\u001b[39m \u001b[43mFlight\u001b[49m\u001b[43m(\u001b[49m\n\u001b[0;32m      2\u001b[0m \u001b[43m    \u001b[49m\u001b[43mrocket\u001b[49m\u001b[38;5;241;43m=\u001b[39;49m\u001b[43mrocket\u001b[49m\u001b[43m,\u001b[49m\n\u001b[0;32m      3\u001b[0m \u001b[43m    \u001b[49m\u001b[43menvironment\u001b[49m\u001b[38;5;241;43m=\u001b[39;49m\u001b[43menv\u001b[49m\u001b[43m,\u001b[49m\n\u001b[0;32m      4\u001b[0m \u001b[43m    \u001b[49m\u001b[43mrail_length\u001b[49m\u001b[38;5;241;43m=\u001b[39;49m\u001b[38;5;241;43m5.1816\u001b[39;49m\u001b[43m,\u001b[49m\n\u001b[0;32m      5\u001b[0m \u001b[43m    \u001b[49m\u001b[43minclination\u001b[49m\u001b[38;5;241;43m=\u001b[39;49m\u001b[38;5;241;43m84.0\u001b[39;49m\u001b[43m,\u001b[49m\n\u001b[0;32m      6\u001b[0m \u001b[43m    \u001b[49m\u001b[43mheading\u001b[49m\u001b[38;5;241;43m=\u001b[39;49m\u001b[38;5;241;43m90.0\u001b[39;49m\u001b[43m,\u001b[49m\n\u001b[0;32m      7\u001b[0m \u001b[43m    \u001b[49m\u001b[43mterminate_on_apogee\u001b[49m\u001b[38;5;241;43m=\u001b[39;49m\u001b[38;5;28;43;01mFalse\u001b[39;49;00m\u001b[43m,\u001b[49m\n\u001b[0;32m      8\u001b[0m \u001b[43m    \u001b[49m\u001b[43mmax_time\u001b[49m\u001b[38;5;241;43m=\u001b[39;49m\u001b[38;5;241;43m600\u001b[39;49m\u001b[43m,\u001b[49m\n\u001b[0;32m      9\u001b[0m \u001b[43m)\u001b[49m\n",
      "File \u001b[1;32mc:\\Users\\guiga\\Documents\\github\\RocketSerializer\\.venv\\lib\\site-packages\\rocketpy\\simulation\\flight.py:622\u001b[0m, in \u001b[0;36mFlight.__init__\u001b[1;34m(self, rocket, environment, rail_length, inclination, heading, initial_solution, terminate_on_apogee, max_time, max_time_step, min_time_step, rtol, atol, time_overshoot, verbose, name, equations_of_motion)\u001b[0m\n\u001b[0;32m    619\u001b[0m \u001b[38;5;28mself\u001b[39m\u001b[38;5;241m.\u001b[39mflight_phases\u001b[38;5;241m.\u001b[39madd_phase(\u001b[38;5;28mself\u001b[39m\u001b[38;5;241m.\u001b[39mmax_time)\n\u001b[0;32m    621\u001b[0m \u001b[38;5;66;03m# Simulate flight\u001b[39;00m\n\u001b[1;32m--> 622\u001b[0m \u001b[38;5;28;43mself\u001b[39;49m\u001b[38;5;241;43m.\u001b[39;49m\u001b[43m__simulate\u001b[49m\u001b[43m(\u001b[49m\u001b[43mverbose\u001b[49m\u001b[43m)\u001b[49m\n\u001b[0;32m    624\u001b[0m \u001b[38;5;66;03m# Initialize prints and plots objects\u001b[39;00m\n\u001b[0;32m    625\u001b[0m \u001b[38;5;28mself\u001b[39m\u001b[38;5;241m.\u001b[39mprints \u001b[38;5;241m=\u001b[39m _FlightPrints(\u001b[38;5;28mself\u001b[39m)\n",
      "File \u001b[1;32mc:\\Users\\guiga\\Documents\\github\\RocketSerializer\\.venv\\lib\\site-packages\\rocketpy\\simulation\\flight.py:751\u001b[0m, in \u001b[0;36mFlight.__simulate\u001b[1;34m(self, verbose)\u001b[0m\n\u001b[0;32m    748\u001b[0m \u001b[38;5;66;03m# Step through simulation\u001b[39;00m\n\u001b[0;32m    749\u001b[0m \u001b[38;5;28;01mwhile\u001b[39;00m phase\u001b[38;5;241m.\u001b[39msolver\u001b[38;5;241m.\u001b[39mstatus \u001b[38;5;241m==\u001b[39m \u001b[38;5;124m\"\u001b[39m\u001b[38;5;124mrunning\u001b[39m\u001b[38;5;124m\"\u001b[39m:\n\u001b[0;32m    750\u001b[0m     \u001b[38;5;66;03m# Execute solver step, log solution and function evaluations\u001b[39;00m\n\u001b[1;32m--> 751\u001b[0m     \u001b[43mphase\u001b[49m\u001b[38;5;241;43m.\u001b[39;49m\u001b[43msolver\u001b[49m\u001b[38;5;241;43m.\u001b[39;49m\u001b[43mstep\u001b[49m\u001b[43m(\u001b[49m\u001b[43m)\u001b[49m\n\u001b[0;32m    752\u001b[0m     \u001b[38;5;28mself\u001b[39m\u001b[38;5;241m.\u001b[39msolution \u001b[38;5;241m+\u001b[39m\u001b[38;5;241m=\u001b[39m [[phase\u001b[38;5;241m.\u001b[39msolver\u001b[38;5;241m.\u001b[39mt, \u001b[38;5;241m*\u001b[39mphase\u001b[38;5;241m.\u001b[39msolver\u001b[38;5;241m.\u001b[39my]]\n\u001b[0;32m    753\u001b[0m     \u001b[38;5;28mself\u001b[39m\u001b[38;5;241m.\u001b[39mfunction_evaluations\u001b[38;5;241m.\u001b[39mappend(phase\u001b[38;5;241m.\u001b[39msolver\u001b[38;5;241m.\u001b[39mnfev)\n",
      "File \u001b[1;32mc:\\Users\\guiga\\Documents\\github\\RocketSerializer\\.venv\\lib\\site-packages\\scipy\\integrate\\_ivp\\base.py:197\u001b[0m, in \u001b[0;36mOdeSolver.step\u001b[1;34m(self)\u001b[0m\n\u001b[0;32m    195\u001b[0m \u001b[38;5;28;01melse\u001b[39;00m:\n\u001b[0;32m    196\u001b[0m     t \u001b[38;5;241m=\u001b[39m \u001b[38;5;28mself\u001b[39m\u001b[38;5;241m.\u001b[39mt\n\u001b[1;32m--> 197\u001b[0m     success, message \u001b[38;5;241m=\u001b[39m \u001b[38;5;28;43mself\u001b[39;49m\u001b[38;5;241;43m.\u001b[39;49m\u001b[43m_step_impl\u001b[49m\u001b[43m(\u001b[49m\u001b[43m)\u001b[49m\n\u001b[0;32m    199\u001b[0m     \u001b[38;5;28;01mif\u001b[39;00m \u001b[38;5;129;01mnot\u001b[39;00m success:\n\u001b[0;32m    200\u001b[0m         \u001b[38;5;28mself\u001b[39m\u001b[38;5;241m.\u001b[39mstatus \u001b[38;5;241m=\u001b[39m \u001b[38;5;124m'\u001b[39m\u001b[38;5;124mfailed\u001b[39m\u001b[38;5;124m'\u001b[39m\n",
      "File \u001b[1;32mc:\\Users\\guiga\\Documents\\github\\RocketSerializer\\.venv\\lib\\site-packages\\scipy\\integrate\\_ivp\\lsoda.py:161\u001b[0m, in \u001b[0;36mLSODA._step_impl\u001b[1;34m(self)\u001b[0m\n\u001b[0;32m    159\u001b[0m itask \u001b[38;5;241m=\u001b[39m integrator\u001b[38;5;241m.\u001b[39mcall_args[\u001b[38;5;241m2\u001b[39m]\n\u001b[0;32m    160\u001b[0m integrator\u001b[38;5;241m.\u001b[39mcall_args[\u001b[38;5;241m2\u001b[39m] \u001b[38;5;241m=\u001b[39m \u001b[38;5;241m5\u001b[39m\n\u001b[1;32m--> 161\u001b[0m solver\u001b[38;5;241m.\u001b[39m_y, solver\u001b[38;5;241m.\u001b[39mt \u001b[38;5;241m=\u001b[39m \u001b[43mintegrator\u001b[49m\u001b[38;5;241;43m.\u001b[39;49m\u001b[43mrun\u001b[49m\u001b[43m(\u001b[49m\n\u001b[0;32m    162\u001b[0m \u001b[43m    \u001b[49m\u001b[43msolver\u001b[49m\u001b[38;5;241;43m.\u001b[39;49m\u001b[43mf\u001b[49m\u001b[43m,\u001b[49m\u001b[43m \u001b[49m\u001b[43msolver\u001b[49m\u001b[38;5;241;43m.\u001b[39;49m\u001b[43mjac\u001b[49m\u001b[43m \u001b[49m\u001b[38;5;129;43;01mor\u001b[39;49;00m\u001b[43m \u001b[49m\u001b[43m(\u001b[49m\u001b[38;5;28;43;01mlambda\u001b[39;49;00m\u001b[43m:\u001b[49m\u001b[43m \u001b[49m\u001b[38;5;28;43;01mNone\u001b[39;49;00m\u001b[43m)\u001b[49m\u001b[43m,\u001b[49m\u001b[43m \u001b[49m\u001b[43msolver\u001b[49m\u001b[38;5;241;43m.\u001b[39;49m\u001b[43m_y\u001b[49m\u001b[43m,\u001b[49m\u001b[43m \u001b[49m\u001b[43msolver\u001b[49m\u001b[38;5;241;43m.\u001b[39;49m\u001b[43mt\u001b[49m\u001b[43m,\u001b[49m\n\u001b[0;32m    163\u001b[0m \u001b[43m    \u001b[49m\u001b[38;5;28;43mself\u001b[39;49m\u001b[38;5;241;43m.\u001b[39;49m\u001b[43mt_bound\u001b[49m\u001b[43m,\u001b[49m\u001b[43m \u001b[49m\u001b[43msolver\u001b[49m\u001b[38;5;241;43m.\u001b[39;49m\u001b[43mf_params\u001b[49m\u001b[43m,\u001b[49m\u001b[43m \u001b[49m\u001b[43msolver\u001b[49m\u001b[38;5;241;43m.\u001b[39;49m\u001b[43mjac_params\u001b[49m\u001b[43m)\u001b[49m\n\u001b[0;32m    164\u001b[0m integrator\u001b[38;5;241m.\u001b[39mcall_args[\u001b[38;5;241m2\u001b[39m] \u001b[38;5;241m=\u001b[39m itask\n\u001b[0;32m    166\u001b[0m \u001b[38;5;28;01mif\u001b[39;00m solver\u001b[38;5;241m.\u001b[39msuccessful():\n",
      "File \u001b[1;32mc:\\Users\\guiga\\Documents\\github\\RocketSerializer\\.venv\\lib\\site-packages\\scipy\\integrate\\_ode.py:1347\u001b[0m, in \u001b[0;36mlsoda.run\u001b[1;34m(self, f, jac, y0, t0, t1, f_params, jac_params)\u001b[0m\n\u001b[0;32m   1344\u001b[0m     \u001b[38;5;28mself\u001b[39m\u001b[38;5;241m.\u001b[39macquire_new_handle()\n\u001b[0;32m   1345\u001b[0m args \u001b[38;5;241m=\u001b[39m [f, y0, t0, t1] \u001b[38;5;241m+\u001b[39m \u001b[38;5;28mself\u001b[39m\u001b[38;5;241m.\u001b[39mcall_args[:\u001b[38;5;241m-\u001b[39m\u001b[38;5;241m1\u001b[39m] \u001b[38;5;241m+\u001b[39m \\\n\u001b[0;32m   1346\u001b[0m        [jac, \u001b[38;5;28mself\u001b[39m\u001b[38;5;241m.\u001b[39mcall_args[\u001b[38;5;241m-\u001b[39m\u001b[38;5;241m1\u001b[39m], f_params, \u001b[38;5;241m0\u001b[39m, jac_params]\n\u001b[1;32m-> 1347\u001b[0m y1, t, istate \u001b[38;5;241m=\u001b[39m \u001b[38;5;28;43mself\u001b[39;49m\u001b[38;5;241;43m.\u001b[39;49m\u001b[43mrunner\u001b[49m\u001b[43m(\u001b[49m\u001b[38;5;241;43m*\u001b[39;49m\u001b[43margs\u001b[49m\u001b[43m)\u001b[49m\n\u001b[0;32m   1348\u001b[0m \u001b[38;5;28mself\u001b[39m\u001b[38;5;241m.\u001b[39mistate \u001b[38;5;241m=\u001b[39m istate\n\u001b[0;32m   1349\u001b[0m \u001b[38;5;28;01mif\u001b[39;00m istate \u001b[38;5;241m<\u001b[39m \u001b[38;5;241m0\u001b[39m:\n",
      "File \u001b[1;32mc:\\Users\\guiga\\Documents\\github\\RocketSerializer\\.venv\\lib\\site-packages\\scipy\\integrate\\_ivp\\base.py:154\u001b[0m, in \u001b[0;36mOdeSolver.__init__.<locals>.fun\u001b[1;34m(t, y)\u001b[0m\n\u001b[0;32m    152\u001b[0m \u001b[38;5;28;01mdef\u001b[39;00m \u001b[38;5;21mfun\u001b[39m(t, y):\n\u001b[0;32m    153\u001b[0m     \u001b[38;5;28mself\u001b[39m\u001b[38;5;241m.\u001b[39mnfev \u001b[38;5;241m+\u001b[39m\u001b[38;5;241m=\u001b[39m \u001b[38;5;241m1\u001b[39m\n\u001b[1;32m--> 154\u001b[0m     \u001b[38;5;28;01mreturn\u001b[39;00m \u001b[38;5;28;43mself\u001b[39;49m\u001b[38;5;241;43m.\u001b[39;49m\u001b[43mfun_single\u001b[49m\u001b[43m(\u001b[49m\u001b[43mt\u001b[49m\u001b[43m,\u001b[49m\u001b[43m \u001b[49m\u001b[43my\u001b[49m\u001b[43m)\u001b[49m\n",
      "File \u001b[1;32mc:\\Users\\guiga\\Documents\\github\\RocketSerializer\\.venv\\lib\\site-packages\\scipy\\integrate\\_ivp\\base.py:23\u001b[0m, in \u001b[0;36mcheck_arguments.<locals>.fun_wrapped\u001b[1;34m(t, y)\u001b[0m\n\u001b[0;32m     22\u001b[0m \u001b[38;5;28;01mdef\u001b[39;00m \u001b[38;5;21mfun_wrapped\u001b[39m(t, y):\n\u001b[1;32m---> 23\u001b[0m     \u001b[38;5;28;01mreturn\u001b[39;00m np\u001b[38;5;241m.\u001b[39masarray(\u001b[43mfun\u001b[49m\u001b[43m(\u001b[49m\u001b[43mt\u001b[49m\u001b[43m,\u001b[49m\u001b[43m \u001b[49m\u001b[43my\u001b[49m\u001b[43m)\u001b[49m, dtype\u001b[38;5;241m=\u001b[39mdtype)\n",
      "File \u001b[1;32mc:\\Users\\guiga\\Documents\\github\\RocketSerializer\\.venv\\lib\\site-packages\\rocketpy\\simulation\\flight.py:1738\u001b[0m, in \u001b[0;36mFlight.u_dot_generalized\u001b[1;34m(self, t, u, post_processing)\u001b[0m\n\u001b[0;32m   1730\u001b[0m T04 \u001b[38;5;241m=\u001b[39m (\n\u001b[0;32m   1731\u001b[0m     Vector([\u001b[38;5;241m0\u001b[39m, \u001b[38;5;241m0\u001b[39m, \u001b[38;5;28mself\u001b[39m\u001b[38;5;241m.\u001b[39mrocket\u001b[38;5;241m.\u001b[39mmotor\u001b[38;5;241m.\u001b[39mthrust\u001b[38;5;241m.\u001b[39mget_value_opt(t)])\n\u001b[0;32m   1732\u001b[0m     \u001b[38;5;241m-\u001b[39m total_mass \u001b[38;5;241m*\u001b[39m r_CM_ddot\n\u001b[0;32m   1733\u001b[0m     \u001b[38;5;241m-\u001b[39m \u001b[38;5;241m2\u001b[39m \u001b[38;5;241m*\u001b[39m total_mass_dot \u001b[38;5;241m*\u001b[39m r_CM_dot\n\u001b[0;32m   1734\u001b[0m     \u001b[38;5;241m+\u001b[39m total_mass_ddot \u001b[38;5;241m*\u001b[39m (r_NOZ \u001b[38;5;241m-\u001b[39m r_CM)\n\u001b[0;32m   1735\u001b[0m )\n\u001b[0;32m   1736\u001b[0m T05 \u001b[38;5;241m=\u001b[39m total_mass_dot \u001b[38;5;241m*\u001b[39m S_nozzle \u001b[38;5;241m-\u001b[39m I_dot\n\u001b[1;32m-> 1738\u001b[0m T20 \u001b[38;5;241m=\u001b[39m \u001b[43m(\u001b[49m\u001b[43m(\u001b[49m\u001b[43mw\u001b[49m\u001b[43m \u001b[49m\u001b[38;5;241;43m^\u001b[39;49m\u001b[43m \u001b[49m\u001b[43mT00\u001b[49m\u001b[43m)\u001b[49m\u001b[43m \u001b[49m\u001b[38;5;241;43m^\u001b[39;49m\u001b[43m \u001b[49m\u001b[43mw\u001b[49m\u001b[43m)\u001b[49m\u001b[43m \u001b[49m\u001b[38;5;241;43m+\u001b[39;49m\u001b[43m \u001b[49m\u001b[43m(\u001b[49m\u001b[43mw\u001b[49m\u001b[43m \u001b[49m\u001b[38;5;241;43m^\u001b[39;49m\u001b[43m \u001b[49m\u001b[43mT03\u001b[49m\u001b[43m)\u001b[49m\u001b[43m \u001b[49m\u001b[38;5;241;43m+\u001b[39;49m\u001b[43m \u001b[49m\u001b[43mT04\u001b[49m\u001b[43m \u001b[49m\u001b[38;5;241;43m+\u001b[39;49m\u001b[43m \u001b[49m\u001b[43mweightB\u001b[49m\u001b[43m \u001b[49m\u001b[38;5;241;43m+\u001b[39;49m\u001b[43m \u001b[49m\u001b[43mVector\u001b[49m\u001b[43m(\u001b[49m\u001b[43m[\u001b[49m\u001b[43mR1\u001b[49m\u001b[43m,\u001b[49m\u001b[43m \u001b[49m\u001b[43mR2\u001b[49m\u001b[43m,\u001b[49m\u001b[43m \u001b[49m\u001b[43mR3\u001b[49m\u001b[43m]\u001b[49m\u001b[43m)\u001b[49m\n\u001b[0;32m   1740\u001b[0m T21 \u001b[38;5;241m=\u001b[39m ((I \u001b[38;5;241m@\u001b[39m w) \u001b[38;5;241m^\u001b[39m w) \u001b[38;5;241m+\u001b[39m T05 \u001b[38;5;241m@\u001b[39m w \u001b[38;5;241m-\u001b[39m (weightB \u001b[38;5;241m^\u001b[39m r_CM) \u001b[38;5;241m+\u001b[39m Vector([M1, M2, M3])\n\u001b[0;32m   1742\u001b[0m \u001b[38;5;66;03m# Angular velocity derivative\u001b[39;00m\n",
      "File \u001b[1;32mc:\\Users\\guiga\\Documents\\github\\RocketSerializer\\.venv\\lib\\site-packages\\rocketpy\\mathutils\\vector_matrix.py:186\u001b[0m, in \u001b[0;36mVector.__add__\u001b[1;34m(self, other)\u001b[0m\n\u001b[0;32m    183\u001b[0m \u001b[38;5;250m    \u001b[39m\u001b[38;5;124;03m\"\"\"-1 times R3 vector self.\"\"\"\u001b[39;00m\n\u001b[0;32m    184\u001b[0m     \u001b[38;5;28;01mreturn\u001b[39;00m Vector([\u001b[38;5;241m-\u001b[39m\u001b[38;5;28mself\u001b[39m\u001b[38;5;241m.\u001b[39mx, \u001b[38;5;241m-\u001b[39m\u001b[38;5;28mself\u001b[39m\u001b[38;5;241m.\u001b[39my, \u001b[38;5;241m-\u001b[39m\u001b[38;5;28mself\u001b[39m\u001b[38;5;241m.\u001b[39mz])\n\u001b[1;32m--> 186\u001b[0m \u001b[38;5;28;01mdef\u001b[39;00m \u001b[38;5;21m__add__\u001b[39m(\u001b[38;5;28mself\u001b[39m, other):\n\u001b[0;32m    187\u001b[0m \u001b[38;5;250m    \u001b[39m\u001b[38;5;124;03m\"\"\"Sum two R3 vectors.\"\"\"\u001b[39;00m\n\u001b[0;32m    188\u001b[0m     \u001b[38;5;28;01mreturn\u001b[39;00m Vector([\u001b[38;5;28mself\u001b[39m\u001b[38;5;241m.\u001b[39mx \u001b[38;5;241m+\u001b[39m other\u001b[38;5;241m.\u001b[39mx, \u001b[38;5;28mself\u001b[39m\u001b[38;5;241m.\u001b[39my \u001b[38;5;241m+\u001b[39m other\u001b[38;5;241m.\u001b[39my, \u001b[38;5;28mself\u001b[39m\u001b[38;5;241m.\u001b[39mz \u001b[38;5;241m+\u001b[39m other\u001b[38;5;241m.\u001b[39mz])\n",
      "\u001b[1;31mKeyboardInterrupt\u001b[0m: "
     ]
    }
   ],
   "source": [
    "flight = Flight(\n",
    "    rocket=rocket,\n",
    "    environment=env,\n",
    "    rail_length=5.1816,\n",
    "    inclination=84.0,\n",
    "    heading=90.0,\n",
    "    terminate_on_apogee=False,\n",
    "    max_time=600,\n",
    ")"
   ]
  },
  {
   "cell_type": "code",
   "execution_count": null,
   "id": "5edce8d4",
   "metadata": {},
   "outputs": [],
   "source": [
    "flight.all_info()"
   ]
  }
 ],
 "metadata": {
  "kernelspec": {
   "display_name": ".venv",
   "language": "python",
   "name": "python3"
  },
  "language_info": {
   "codemirror_mode": {
    "name": "ipython",
    "version": 3
   },
   "file_extension": ".py",
   "mimetype": "text/x-python",
   "name": "python",
   "nbconvert_exporter": "python",
   "pygments_lexer": "ipython3",
   "version": "3.10.11"
  }
 },
 "nbformat": 4,
 "nbformat_minor": 5
}
