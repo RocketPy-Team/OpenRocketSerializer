{
 "cells": [
  {
   "cell_type": "markdown",
   "id": "8850fad0",
   "metadata": {},
   "source": [
    "# RocketPy Simulation\n",
    "This notebook was generated using Rocket-Serializer, a RocketPy tool to convert simulation files to RocketPy simulations\n",
    "The notebook was generated using the following parameters file: `examples\\NDRT--Rocket--2020\\parameters.json`\n"
   ]
  },
  {
   "cell_type": "code",
   "execution_count": null,
   "id": "7a15d57b",
   "metadata": {},
   "outputs": [],
   "source": [
    "%pip install rocketpy<=2.0"
   ]
  },
  {
   "cell_type": "code",
   "execution_count": null,
   "id": "f81bca53",
   "metadata": {},
   "outputs": [],
   "source": [
    "from rocketpy import (\n",
    "    Environment,\n",
    "    SolidMotor,\n",
    "    Rocket,\n",
    "    Flight,\n",
    "    TrapezoidalFins,\n",
    "    EllipticalFins,\n",
    "    RailButtons,\n",
    "    NoseCone,\n",
    "    Tail,\n",
    "    Parachute,\n",
    ")\n",
    "import datetime"
   ]
  },
  {
   "cell_type": "markdown",
   "id": "aca90c10",
   "metadata": {},
   "source": [
    "## Environment\n"
   ]
  },
  {
   "cell_type": "code",
   "execution_count": null,
   "id": "07414b55",
   "metadata": {},
   "outputs": [],
   "source": [
    "env = Environment()\n",
    "env.set_location(latitude=28.61, longitude=-80.6)\n",
    "env.set_elevation(0.0)"
   ]
  },
  {
   "cell_type": "markdown",
   "id": "21c300d4",
   "metadata": {},
   "source": [
    "Optionally, you can set the date and atmospheric model\n"
   ]
  },
  {
   "cell_type": "code",
   "execution_count": null,
   "id": "e0f983b5",
   "metadata": {},
   "outputs": [],
   "source": [
    "tomorrow = datetime.date.today() + datetime.timedelta(days=1)\n",
    "env.set_date((tomorrow.year, tomorrow.month, tomorrow.day, 12))\n",
    "# env.set_atmospheric_model(type='Forecast', file='GFS')"
   ]
  },
  {
   "cell_type": "code",
   "execution_count": null,
   "id": "91625017",
   "metadata": {},
   "outputs": [],
   "source": [
    "env.all_info()"
   ]
  },
  {
   "cell_type": "markdown",
   "id": "32e5b938",
   "metadata": {},
   "source": [
    "## Motor\n",
    "Currently, only Solid Motors are supported by Rocket-Serializer. If you want to use a Liquid/Hybrid motor, please use rocketpy directly.\n"
   ]
  },
  {
   "cell_type": "code",
   "execution_count": null,
   "id": "c048ae83",
   "metadata": {},
   "outputs": [],
   "source": [
    "motor = SolidMotor(\n",
    "    thrust_source=\"thrust_source.csv\",\n",
    "    dry_mass=0,\n",
    "    center_of_dry_mass_position=0,\n",
    "    dry_inertia=[0, 0, 0],\n",
    "    grains_center_of_mass_position=0,\n",
    "    grain_number=1,\n",
    "    grain_density=1202.7971321820446,\n",
    "    grain_outer_radius=0.0375,\n",
    "    grain_initial_inner_radius=0.01875,\n",
    "    grain_initial_height=0.621,\n",
    "    grain_separation=0,\n",
    "    nozzle_radius=0.028124999999999997,\n",
    "    nozzle_position=-0.3105,\n",
    "    throat_radius=0.01875,\n",
    "    reshape_thrust_curve=False,  # Not implemented in Rocket-Serializer\n",
    "    interpolation_method=\"linear\",\n",
    "    coordinate_system_orientation=\"nozzle_to_combustion_chamber\",\n",
    ")"
   ]
  },
  {
   "cell_type": "code",
   "execution_count": null,
   "id": "f6c2309e",
   "metadata": {},
   "outputs": [],
   "source": [
    "motor.all_info()"
   ]
  },
  {
   "cell_type": "markdown",
   "id": "22e08a67",
   "metadata": {},
   "source": [
    "## Rocket\n",
    "Currently, only single stage rockets are supported by Rocket-Serializer\n",
    "We will start by defining the aerodynamic surfaces, and then build the rocket.\n"
   ]
  },
  {
   "cell_type": "markdown",
   "id": "a11965e0",
   "metadata": {},
   "source": [
    "### Nosecones\n"
   ]
  },
  {
   "cell_type": "code",
   "execution_count": null,
   "id": "dd969011",
   "metadata": {},
   "outputs": [],
   "source": [
    "nosecone = NoseCone(\n",
    "    length=0.6095999999999999,\n",
    "    kind=\"ogive\",\n",
    "    base_radius=0.1016,\n",
    "    rocket_radius=0.1016,\n",
    "    name=\"0.6095999999999999\",\n",
    ")"
   ]
  },
  {
   "cell_type": "markdown",
   "id": "575a49f5",
   "metadata": {},
   "source": [
    "### Fins\n",
    "As rocketpy allows for multiple fins sets, we will create a dictionary with all the fins sets and then add them to the rocket\n"
   ]
  },
  {
   "cell_type": "code",
   "execution_count": null,
   "id": "5e389821",
   "metadata": {},
   "outputs": [],
   "source": [
    "trapezoidal_fins = {}"
   ]
  },
  {
   "cell_type": "code",
   "execution_count": null,
   "id": "aac765a3",
   "metadata": {},
   "outputs": [],
   "source": [
    "trapezoidal_fins[0] = TrapezoidalFins(\n",
    "    n=4,\n",
    "    root_chord=0.15239999999999995,\n",
    "    tip_chord=0.07619999999999999,\n",
    "    span=0.1651,\n",
    "    cant_angle=0.0,\n",
    "    sweep_length=0.038099999999999995,\n",
    "    sweep_angle=None,\n",
    "    rocket_radius=0.1016,\n",
    "    name=\"Trapezoidal fin set\",\n",
    ")"
   ]
  },
  {
   "cell_type": "markdown",
   "id": "bb0c1f8c",
   "metadata": {},
   "source": [
    "### Transitions (Tails)\n",
    "As rocketpy allows for multiple tails, we will create a dictionary with all the tails and then add them to the rocket\n"
   ]
  },
  {
   "cell_type": "code",
   "execution_count": null,
   "id": "0d0bfa9f",
   "metadata": {},
   "outputs": [],
   "source": [
    "tails = {}"
   ]
  },
  {
   "cell_type": "code",
   "execution_count": null,
   "id": "1304e86a",
   "metadata": {},
   "outputs": [],
   "source": [
    "tails[0] = Tail(\n",
    "    top_radius=0.1016,\n",
    "    bottom_radius=0.0776224,\n",
    "    length=0.127,\n",
    "    rocket_radius=0.1016,\n",
    "    name=\"Transition\",\n",
    ")"
   ]
  },
  {
   "cell_type": "markdown",
   "id": "1f608fa5",
   "metadata": {},
   "source": [
    "### Parachutes\n",
    "As rocketpy allows for multiple parachutes, we will create a dictionary with all the parachutes and then add them to the rocket\n"
   ]
  },
  {
   "cell_type": "code",
   "execution_count": null,
   "id": "e5f9a9f8",
   "metadata": {},
   "outputs": [],
   "source": [
    "parachutes = {}"
   ]
  },
  {
   "cell_type": "code",
   "execution_count": null,
   "id": "aca8a9e1",
   "metadata": {},
   "outputs": [],
   "source": [
    "parachutes[0] = Parachute(\n",
    "    name=\"Iris120Comp\",\n",
    "    cd_s=16.052,\n",
    "    trigger=182.880,\n",
    "    sampling_rate=100,\n",
    ")"
   ]
  },
  {
   "cell_type": "code",
   "execution_count": null,
   "id": "3e456b94",
   "metadata": {},
   "outputs": [],
   "source": [
    "parachutes[1] = Parachute(\n",
    "    name=\"Drogue Parachute\",\n",
    "    cd_s=0.438,\n",
    "    trigger=\"apogee\",\n",
    "    sampling_rate=100,\n",
    ")"
   ]
  },
  {
   "cell_type": "code",
   "execution_count": null,
   "id": "8b5210e0",
   "metadata": {},
   "outputs": [],
   "source": [
    "rocket = Rocket(\n",
    "    radius=0.1016,\n",
    "    mass=20.735,\n",
    "    inertia=[0.15089, 0.15089, 18.411],\n",
    "    power_off_drag=\"drag_curve.csv\",\n",
    "    power_on_drag=\"drag_curve.csv\",\n",
    "    center_of_mass_without_motor=1.7041,\n",
    "    coordinate_system_orientation=\"nose_to_tail\",\n",
    ")"
   ]
  },
  {
   "cell_type": "markdown",
   "id": "6ee65aa8",
   "metadata": {},
   "source": [
    "### Adding surfaces to the rocket\n",
    "Now that we have all the surfaces, we can add them to the rocket\n"
   ]
  },
  {
   "cell_type": "code",
   "execution_count": null,
   "id": "a8561efb",
   "metadata": {},
   "outputs": [],
   "source": [
    "rocket.add_surfaces(\n",
    "    surfaces=[nosecone, trapezoidal_fins[0], tails[0]],\n",
    "    positions=[0.0, 3.3528000000000002, 1.1938],\n",
    ")"
   ]
  },
  {
   "cell_type": "code",
   "execution_count": null,
   "id": "bd484fb1",
   "metadata": {},
   "outputs": [],
   "source": [
    "rocket.add_motor(motor, position=3.079819999999998)"
   ]
  },
  {
   "cell_type": "markdown",
   "id": "60c38014",
   "metadata": {},
   "source": [
    "Adding parachutes to the rocket\n"
   ]
  },
  {
   "cell_type": "code",
   "execution_count": null,
   "id": "a8e32996",
   "metadata": {},
   "outputs": [],
   "source": [
    "rocket.parachutes = list(parachutes.values())"
   ]
  },
  {
   "cell_type": "code",
   "execution_count": null,
   "id": "03592001",
   "metadata": {},
   "outputs": [],
   "source": [
    "### Rocket Info\n",
    "rocket.all_info()"
   ]
  },
  {
   "cell_type": "markdown",
   "id": "6d154473",
   "metadata": {},
   "source": [
    "## Flight\n",
    "We will now create the flight simulation. Let's go!\n"
   ]
  },
  {
   "cell_type": "code",
   "execution_count": null,
   "id": "c268cee0",
   "metadata": {},
   "outputs": [],
   "source": [
    "flight = Flight(\n",
    "    rocket=rocket,\n",
    "    environment=env,\n",
    "    rail_length=2.7432000000000003,\n",
    "    inclination=85.0,\n",
    "    heading=90.0,\n",
    "    terminate_on_apogee=False,\n",
    "    max_time=600,\n",
    ")"
   ]
  },
  {
   "cell_type": "code",
   "execution_count": null,
   "id": "0cc33a11",
   "metadata": {},
   "outputs": [],
   "source": [
    "flight.all_info()"
   ]
  },
  {
   "cell_type": "markdown",
   "id": "48a5de0c",
   "metadata": {},
   "source": [
    "## Compare Results\n",
    "We will now compare the results of the simulation with the parameters used to create it. Let's go!\n"
   ]
  },
  {
   "cell_type": "code",
   "execution_count": null,
   "id": "4dbfbd13",
   "metadata": {},
   "outputs": [],
   "source": [
    "### OpenRocket vs RocketPy Parameters\n",
    "time_to_apogee_ork = 15.761\n",
    "time_to_apogee_rpy = flight.apogee_time\n",
    "print(f\"Time to apogee (OpenRocket): {time_to_apogee_ork:.3f} s\")\n",
    "print(f\"Time to apogee (RocketPy):   {time_to_apogee_rpy:.3f} s\")\n",
    "apogee_difference = time_to_apogee_rpy - time_to_apogee_ork\n",
    "error = abs((apogee_difference) / time_to_apogee_rpy) * 100\n",
    "print(f\"Time to apogee difference:   {error:.3f} %\")\n",
    "\n",
    "flight_time_ork = 86.725\n",
    "flight_time_rpy = flight.t_final\n",
    "print(f\"Flight time (OpenRocket): {flight_time_ork:.3f} s\")\n",
    "print(f\"Flight time (RocketPy):   {flight_time_rpy:.3f} s\")\n",
    "flight_time_difference = flight_time_rpy - flight_time_ork\n",
    "error_flight_time = abs((flight_time_difference) / flight_time_rpy) * 100\n",
    "print(f\"Flight time difference:   {error_flight_time:.3f} %\")\n",
    "\n",
    "ground_hit_velocity_ork = 4.7426\n",
    "ground_hit_velocity_rpy = flight.impact_velocity\n",
    "print(f\"Ground hit velocity (OpenRocket): {ground_hit_velocity_ork:.3f} m/s\")\n",
    "print(f\"Ground hit velocity (RocketPy):   {ground_hit_velocity_rpy:.3f} m/s\")\n",
    "ground_hit_velocity_difference = ground_hit_velocity_rpy - ground_hit_velocity_ork\n",
    "error_ground_hit_velocity = (\n",
    "    abs((ground_hit_velocity_difference) / ground_hit_velocity_rpy) * 100\n",
    ")\n",
    "print(f\"Ground hit velocity difference:   {error_ground_hit_velocity:.3f} %\")\n",
    "\n",
    "launch_rod_velocity_ork = 17.993\n",
    "launch_rod_velocity_rpy = flight.out_of_rail_velocity\n",
    "print(f\"Launch rod velocity (OpenRocket): {launch_rod_velocity_ork:.3f} m/s\")\n",
    "print(f\"Launch rod velocity (RocketPy):   {launch_rod_velocity_rpy:.3f} m/s\")\n",
    "launch_rod_velocity_difference = launch_rod_velocity_rpy - launch_rod_velocity_ork\n",
    "error_launch_rod_velocity = (\n",
    "    abs((launch_rod_velocity_difference) / launch_rod_velocity_rpy) * 100\n",
    ")\n",
    "print(f\"Launch rod velocity difference:   {error_launch_rod_velocity:.3f} %\")\n",
    "\n",
    "max_acceleration_ork = 67.386\n",
    "max_acceleration_rpy = flight.max_acceleration\n",
    "print(f\"Max acceleration (OpenRocket): {max_acceleration_ork:.3f} m/s²\")\n",
    "print(f\"Max acceleration (RocketPy):   {max_acceleration_rpy:.3f} m/s²\")\n",
    "max_acceleration_difference = max_acceleration_rpy - max_acceleration_ork\n",
    "error_max_acceleration = abs((max_acceleration_difference) / max_acceleration_rpy) * 100\n",
    "print(f\"Max acceleration difference:   {error_max_acceleration:.3f} %\")\n",
    "\n",
    "max_altitude_ork = 1085.9\n",
    "max_altitude_rpy = flight.apogee - flight.env.elevation\n",
    "print(f\"Max altitude (OpenRocket): {max_altitude_ork:.3f} m\")\n",
    "print(f\"Max altitude (RocketPy):   {max_altitude_rpy:.3f} m\")\n",
    "max_altitude_difference = max_altitude_rpy - max_altitude_ork\n",
    "error_max_altitude = abs((max_altitude_difference) / max_altitude_rpy) * 100\n",
    "print(f\"Max altitude difference:   {error_max_altitude:.3f} %\")\n",
    "\n",
    "max_mach_ork = 0.42789\n",
    "max_mach_rpy = flight.max_mach_number\n",
    "print(f\"Max Mach (OpenRocket): {max_mach_ork:.3f}\")\n",
    "print(f\"Max Mach (RocketPy):   {max_mach_rpy:.3f}\")\n",
    "max_mach_difference = max_mach_rpy - max_mach_ork\n",
    "error_max_mach = abs((max_mach_difference) / max_mach_rpy) * 100\n",
    "print(f\"Max Mach difference:   {error_max_mach:.3f} %\")\n",
    "\n",
    "max_velocity_ork = 145.01\n",
    "max_velocity_rpy = flight.max_speed\n",
    "print(f\"Max velocity (OpenRocket): {max_velocity_ork:.3f} m/s\")\n",
    "print(f\"Max velocity (RocketPy):   {max_velocity_rpy:.3f} m/s\")\n",
    "max_velocity_difference = max_velocity_rpy - max_velocity_ork\n",
    "error_max_velocity = abs((max_velocity_difference) / max_velocity_rpy) * 100\n",
    "print(f\"Max velocity difference:   {error_max_velocity:.3f} %\")\n",
    "\n",
    "max_thrust_ork = 1785.0\n",
    "max_thrust_rpy = flight.rocket.motor.thrust.max\n",
    "print(f\"Max thrust (OpenRocket): {max_thrust_ork:.3f} N\")\n",
    "print(f\"Max thrust (RocketPy):   {max_thrust_rpy:.3f} N\")\n",
    "max_thrust_difference = max_thrust_rpy - max_thrust_ork\n",
    "error_max_thrust = abs((max_thrust_difference) / max_thrust_rpy) * 100\n",
    "print(f\"Max thrust difference:   {error_max_thrust:.3f} %\")\n",
    "\n",
    "burnout_stability_margin_ork = 3.7288\n",
    "burnout_stability_margin_rpy = flight.stability_margin(\n",
    "    flight.rocket.motor.burn_out_time\n",
    ")\n",
    "print(f\"Burnout stability margin (OpenRocket): {burnout_stability_margin_ork:.3f}\")\n",
    "print(f\"Burnout stability margin (RocketPy):   {burnout_stability_margin_rpy:.3f}\")\n",
    "burnout_stability_margin_difference = (\n",
    "    burnout_stability_margin_rpy - burnout_stability_margin_ork\n",
    ")\n",
    "error_burnout_stability_margin = (\n",
    "    abs((burnout_stability_margin_difference) / burnout_stability_margin_rpy) * 100\n",
    ")\n",
    "print(f\"Burnout stability margin difference:   {error_burnout_stability_margin:.3f} %\")\n",
    "\n",
    "max_stability_margin_ork = 3.7685\n",
    "max_stability_margin_rpy = flight.max_stability_margin\n",
    "print(f\"Max stability margin (OpenRocket): {max_stability_margin_ork:.3f}\")\n",
    "print(f\"Max stability margin (RocketPy):   {max_stability_margin_rpy:.3f}\")\n",
    "max_stability_margin_difference = max_stability_margin_rpy - max_stability_margin_ork\n",
    "error_max_stability_margin = (\n",
    "    abs((max_stability_margin_difference) / max_stability_margin_rpy) * 100\n",
    ")\n",
    "print(f\"Max stability margin difference:   {error_max_stability_margin:.3f} %\")\n",
    "\n",
    "min_stability_margin_ork = 1.2489\n",
    "min_stability_margin_rpy = flight.min_stability_margin\n",
    "print(f\"Min stability margin (OpenRocket): {min_stability_margin_ork:.3f}\")\n",
    "print(f\"Min stability margin (RocketPy):   {min_stability_margin_rpy:.3f}\")\n",
    "min_stability_margin_difference = min_stability_margin_rpy - min_stability_margin_ork\n",
    "error_min_stability_margin = (\n",
    "    abs((min_stability_margin_difference) / min_stability_margin_rpy) * 100\n",
    ")\n",
    "print(f\"Min stability margin difference:   {error_min_stability_margin:.3f} %\")"
   ]
  }
 ],
 "metadata": {},
 "nbformat": 4,
 "nbformat_minor": 5
}
