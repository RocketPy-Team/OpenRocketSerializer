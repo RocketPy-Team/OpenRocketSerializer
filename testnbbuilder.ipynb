{
 "cells": [
  {
   "cell_type": "code",
   "execution_count": 1,
   "metadata": {},
   "outputs": [],
   "source": [
    "%load_ext autoreload\n",
    "%autoreload 2"
   ]
  },
  {
   "cell_type": "code",
   "execution_count": 2,
   "metadata": {},
   "outputs": [],
   "source": [
    "from open_rocket_serializer.nb_builder import NotebookBuilder"
   ]
  },
  {
   "cell_type": "code",
   "execution_count": 3,
   "metadata": {},
   "outputs": [
    {
     "name": "stdout",
     "output_type": "stream",
     "text": [
      "Notebook for examples/EPFL--BellaLui--2020/rocket.ork built!\n",
      "Notebook for examples/NDRT--Rocket--2020/rocket.ork built!\n",
      "Notebook for examples/ProjetoJupiter--Valetudo--2019/rocket.ork built!\n"
     ]
    }
   ],
   "source": [
    "files = [\n",
    "    \"examples/EPFL--BellaLui--2020/rocket.ork\",\n",
    "    \"examples/NDRT--Rocket--2020/rocket.ork\",\n",
    "    \"examples/ProjetoJupiter--Valetudo--2019/rocket.ork\",\n",
    "]\n",
    "\n",
    "for f in files:\n",
    "    parameters_file = \"examples/EPFL--BellaLui--2020/parameters.json\"\n",
    "    instance = NotebookBuilder(parameters_json=parameters_file)\n",
    "    instance.build(destination=f.removesuffix(\"rocket.ork\"))\n",
    "    print(f\"Notebook for {f} built!\")"
   ]
  }
 ],
 "metadata": {
  "kernelspec": {
   "display_name": ".venv",
   "language": "python",
   "name": "python3"
  },
  "language_info": {
   "codemirror_mode": {
    "name": "ipython",
    "version": 3
   },
   "file_extension": ".py",
   "mimetype": "text/x-python",
   "name": "python",
   "nbconvert_exporter": "python",
   "pygments_lexer": "ipython3",
   "version": "3.10.11"
  },
  "orig_nbformat": 4
 },
 "nbformat": 4,
 "nbformat_minor": 2
}
