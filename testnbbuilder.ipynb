{
 "cells": [
  {
   "cell_type": "code",
   "execution_count": 7,
   "metadata": {},
   "outputs": [
    {
     "name": "stdout",
     "output_type": "stream",
     "text": [
      "The autoreload extension is already loaded. To reload it, use:\n",
      "  %reload_ext autoreload\n"
     ]
    }
   ],
   "source": [
    "%load_ext autoreload\n",
    "%autoreload 2"
   ]
  },
  {
   "cell_type": "code",
   "execution_count": 8,
   "metadata": {},
   "outputs": [
    {
     "name": "stdout",
     "output_type": "stream",
     "text": [
      "Converted examples/ProjetoJupiter--Valetudo--2019/rocket.ork to JSON successfully.\n"
     ]
    },
    {
     "name": "stderr",
     "output_type": "stream",
     "text": [
      "reformatted examples/ProjetoJupiter--Valetudo--2019/simulation.ipynb\n",
      "\n",
      "All done! ✨ 🍰 ✨\n",
      "1 file reformatted.\n"
     ]
    },
    {
     "name": "stdout",
     "output_type": "stream",
     "text": [
      "Notebook for examples/ProjetoJupiter--Valetudo--2019/rocket.ork built!\n"
     ]
    }
   ],
   "source": [
    "import os\n",
    "import subprocess\n",
    "\n",
    "from rocketserializer.nb_builder import NotebookBuilder\n",
    "\n",
    "files = [\n",
    "    # \"examples/EPFL--BellaLui--2020/rocket.ork\",\n",
    "    # \"examples/NDRT--Rocket--2020/rocket.ork\",\n",
    "    \"examples/ProjetoJupiter--Valetudo--2019/rocket.ork\",\n",
    "    # \"examples/rocket_with_elliptical_fins/rocket.ork\",\n",
    "    # \"examples/databank/Team01/rocket.ork\",\n",
    "    # \"examples/databank/Team06/rocket.ork\",\n",
    "    # \"examples/databank/Team07/rocket.ork\",\n",
    "    # \"examples/databank/Team08/rocket.ork\",\n",
    "    # \"examples/databank/Team15/rocket.ork\",\n",
    "]\n",
    "\n",
    "for file in files:\n",
    "    if os.path.getsize(file) == 0:\n",
    "        print(f\"File {file} is empty. Skipping.\")\n",
    "        continue\n",
    "\n",
    "    # runs the ork2json script on terminal with the --filepath argument\n",
    "    try:\n",
    "        result = subprocess.run(\n",
    "            [\"ork2json\", \"--filepath\", file], check=True, text=True, capture_output=True\n",
    "        )\n",
    "        print(f\"Converted {file} to JSON successfully.\")\n",
    "    except subprocess.CalledProcessError as e:\n",
    "        print(f\"Error converting {file}: {e.output}\")\n",
    "        continue\n",
    "\n",
    "    instance = NotebookBuilder(\n",
    "        parameters_json=file.removesuffix(\"rocket.ork\") + \"parameters.json\",\n",
    "    )\n",
    "    instance.build(destination=file.removesuffix(\"rocket.ork\"))\n",
    "    print(f\"Notebook for {file} built!\")"
   ]
  }
 ],
 "metadata": {
  "kernelspec": {
   "display_name": ".venv",
   "language": "python",
   "name": "python3"
  },
  "language_info": {
   "codemirror_mode": {
    "name": "ipython",
    "version": 3
   },
   "file_extension": ".py",
   "mimetype": "text/x-python",
   "name": "python",
   "nbconvert_exporter": "python",
   "pygments_lexer": "ipython3",
   "version": "3.10.11"
  },
  "orig_nbformat": 4
 },
 "nbformat": 4,
 "nbformat_minor": 2
}
